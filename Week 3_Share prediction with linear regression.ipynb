{
 "cells": [
  {
   "cell_type": "markdown",
   "metadata": {},
   "source": [
    "# Week 3 - Share prediction with linear regression\n",
    "\n",
    "In this assignment, we will use data from Mashable (www.mashable.com). Mashable is an online magazine that focuses on producing viral content. \n",
    "\n",
    "We will try to find out what makes an article go viral. We're also gonna build our first lineal regression model.. :)"
   ]
  },
  {
   "cell_type": "markdown",
   "metadata": {},
   "source": [
    "###  Dataset:\n",
    "\n",
    "The data comes from a study by Fernandes, Vinagre and Cortez (2015). The data set consists of over 30,000 articles with associated variables such as the title length, the article category and the weekday on which it was published. \n",
    "\n",
    "Since we are working with a lot of variables we will use this file for information about them: \n",
    "\n",
    "https://archive.ics.uci.edu/ml/datasets/online+news+popularity\n"
   ]
  },
  {
   "cell_type": "markdown",
   "metadata": {},
   "source": [
    "### To do:\n",
    "\n",
    "- Explain briefly in your own words how linear regression works\n",
    "- Your pre-processing steps\n",
    "- The head() of the resulting data frame\n",
    "- Split the dataset into a training and test set\n",
    "- Select exactly 5 variables (collections of dummy variables, such as weekday_is_monday, weekday_is_tuesday, etc. count as 1 variable).\n",
    "\n",
    "  - Explain why you selected those variables.\n",
    "  - Make plots of the relation of your selected variables with the target\n",
    "  - Comment on the linearity of the relationships\n",
    "  \n",
    "- Fit a linear regression model to predict the number of shares (using the training data. Give the equation of the model (please use Markdown formulas)\n",
    "- Evaluate the model on the test data\n",
    "  - Predictive power of the model (R2, RMSE)\n",
    "  - Investigate the residuals"
   ]
  },
  {
   "cell_type": "markdown",
   "metadata": {},
   "source": [
    "## Linear Regression\n",
    "\n",
    "Linear Regression is the simplest algorithm in machine learning.\n",
    "\n",
    "Most specifically, we need to find a function that maps some features or variables to others sufficiently well.\n",
    "The dependent features are called the dependent variables, outputs, or responses.\n",
    "The independent features are called the independent variables, inputs, or predictors.\n",
    "\n",
    "When implementing linear regression of some dependent variable 𝑦 on the set of independent variables 𝐱 = (𝑥₁, …, 𝑥ᵣ), where 𝑟 is the number of predictors, you assume a linear relationship between 𝑦 and 𝐱: 𝑦 = 𝛽₀ + 𝛽₁𝑥₁ + ⋯ + 𝛽ᵣ𝑥ᵣ + 𝜀. This equation is the regression equation. 𝛽₀, 𝛽₁, …, 𝛽ᵣ are the regression coefficients, and 𝜀 is the random error."
   ]
  },
  {
   "cell_type": "markdown",
   "metadata": {},
   "source": [
    "Lets start by importing our relevant libraries."
   ]
  },
  {
   "cell_type": "code",
   "execution_count": 1,
   "metadata": {},
   "outputs": [],
   "source": [
    "import pandas as pd\n",
    "import seaborn as sns\n",
    "import matplotlib.pyplot as plt"
   ]
  },
  {
   "cell_type": "markdown",
   "metadata": {},
   "source": [
    "### Importing Data and some Transformation"
   ]
  },
  {
   "cell_type": "code",
   "execution_count": 2,
   "metadata": {},
   "outputs": [
    {
     "data": {
      "text/html": [
       "<div>\n",
       "<style scoped>\n",
       "    .dataframe tbody tr th:only-of-type {\n",
       "        vertical-align: middle;\n",
       "    }\n",
       "\n",
       "    .dataframe tbody tr th {\n",
       "        vertical-align: top;\n",
       "    }\n",
       "\n",
       "    .dataframe thead th {\n",
       "        text-align: right;\n",
       "    }\n",
       "</style>\n",
       "<table border=\"1\" class=\"dataframe\">\n",
       "  <thead>\n",
       "    <tr style=\"text-align: right;\">\n",
       "      <th></th>\n",
       "      <th>id</th>\n",
       "      <th>url</th>\n",
       "      <th>n_tokens_title</th>\n",
       "      <th>n_tokens_content</th>\n",
       "      <th>num_imgs</th>\n",
       "      <th>num_videos</th>\n",
       "      <th>average_token_length</th>\n",
       "      <th>data_channel_is_lifestyle</th>\n",
       "      <th>data_channel_is_entertainment</th>\n",
       "      <th>data_channel_is_bus</th>\n",
       "      <th>...</th>\n",
       "      <th>weekday_is_friday</th>\n",
       "      <th>weekday_is_saturday</th>\n",
       "      <th>weekday_is_sunday</th>\n",
       "      <th>is_weekend</th>\n",
       "      <th>global_subjectivity</th>\n",
       "      <th>global_sentiment_polarity</th>\n",
       "      <th>title_subjectivity</th>\n",
       "      <th>title_sentiment_polarity</th>\n",
       "      <th>shares</th>\n",
       "      <th>shares_log</th>\n",
       "    </tr>\n",
       "  </thead>\n",
       "  <tbody>\n",
       "    <tr>\n",
       "      <th>0</th>\n",
       "      <td>1</td>\n",
       "      <td>http://mashable.com/2013/10/29/ashton-kutcher-...</td>\n",
       "      <td>10</td>\n",
       "      <td>821</td>\n",
       "      <td>12</td>\n",
       "      <td>0</td>\n",
       "      <td>4.518879</td>\n",
       "      <td>0</td>\n",
       "      <td>0</td>\n",
       "      <td>0</td>\n",
       "      <td>...</td>\n",
       "      <td>0</td>\n",
       "      <td>0</td>\n",
       "      <td>0</td>\n",
       "      <td>0</td>\n",
       "      <td>0.439379</td>\n",
       "      <td>0.082486</td>\n",
       "      <td>0.666667</td>\n",
       "      <td>0.375</td>\n",
       "      <td>2100</td>\n",
       "      <td>3.322219</td>\n",
       "    </tr>\n",
       "    <tr>\n",
       "      <th>1</th>\n",
       "      <td>2</td>\n",
       "      <td>http://mashable.com/2014/09/08/mashies-sept-19...</td>\n",
       "      <td>9</td>\n",
       "      <td>489</td>\n",
       "      <td>6</td>\n",
       "      <td>0</td>\n",
       "      <td>5.040900</td>\n",
       "      <td>0</td>\n",
       "      <td>0</td>\n",
       "      <td>0</td>\n",
       "      <td>...</td>\n",
       "      <td>0</td>\n",
       "      <td>0</td>\n",
       "      <td>0</td>\n",
       "      <td>0</td>\n",
       "      <td>0.300454</td>\n",
       "      <td>0.027715</td>\n",
       "      <td>0.000000</td>\n",
       "      <td>0.000</td>\n",
       "      <td>274</td>\n",
       "      <td>2.437751</td>\n",
       "    </tr>\n",
       "    <tr>\n",
       "      <th>2</th>\n",
       "      <td>3</td>\n",
       "      <td>http://mashable.com/2013/02/01/hello-kitty-roc...</td>\n",
       "      <td>11</td>\n",
       "      <td>131</td>\n",
       "      <td>0</td>\n",
       "      <td>1</td>\n",
       "      <td>4.877863</td>\n",
       "      <td>0</td>\n",
       "      <td>0</td>\n",
       "      <td>0</td>\n",
       "      <td>...</td>\n",
       "      <td>1</td>\n",
       "      <td>0</td>\n",
       "      <td>0</td>\n",
       "      <td>0</td>\n",
       "      <td>0.575486</td>\n",
       "      <td>0.259120</td>\n",
       "      <td>0.000000</td>\n",
       "      <td>0.000</td>\n",
       "      <td>1500</td>\n",
       "      <td>3.176091</td>\n",
       "    </tr>\n",
       "    <tr>\n",
       "      <th>3</th>\n",
       "      <td>4</td>\n",
       "      <td>http://mashable.com/2014/02/06/add-us-on-snapc...</td>\n",
       "      <td>8</td>\n",
       "      <td>556</td>\n",
       "      <td>2</td>\n",
       "      <td>0</td>\n",
       "      <td>4.974820</td>\n",
       "      <td>0</td>\n",
       "      <td>0</td>\n",
       "      <td>1</td>\n",
       "      <td>...</td>\n",
       "      <td>0</td>\n",
       "      <td>0</td>\n",
       "      <td>0</td>\n",
       "      <td>0</td>\n",
       "      <td>0.327220</td>\n",
       "      <td>0.134424</td>\n",
       "      <td>0.000000</td>\n",
       "      <td>0.000</td>\n",
       "      <td>2000</td>\n",
       "      <td>3.301030</td>\n",
       "    </tr>\n",
       "    <tr>\n",
       "      <th>4</th>\n",
       "      <td>5</td>\n",
       "      <td>http://mashable.com/2014/01/07/lindsey-vonn-wi...</td>\n",
       "      <td>9</td>\n",
       "      <td>880</td>\n",
       "      <td>18</td>\n",
       "      <td>0</td>\n",
       "      <td>4.928409</td>\n",
       "      <td>0</td>\n",
       "      <td>0</td>\n",
       "      <td>0</td>\n",
       "      <td>...</td>\n",
       "      <td>0</td>\n",
       "      <td>0</td>\n",
       "      <td>0</td>\n",
       "      <td>0</td>\n",
       "      <td>0.507709</td>\n",
       "      <td>0.109256</td>\n",
       "      <td>0.000000</td>\n",
       "      <td>0.000</td>\n",
       "      <td>6000</td>\n",
       "      <td>3.778151</td>\n",
       "    </tr>\n",
       "  </tbody>\n",
       "</table>\n",
       "<p>5 rows × 27 columns</p>\n",
       "</div>"
      ],
      "text/plain": [
       "   id                                                url  n_tokens_title  \\\n",
       "0   1  http://mashable.com/2013/10/29/ashton-kutcher-...              10   \n",
       "1   2  http://mashable.com/2014/09/08/mashies-sept-19...               9   \n",
       "2   3  http://mashable.com/2013/02/01/hello-kitty-roc...              11   \n",
       "3   4  http://mashable.com/2014/02/06/add-us-on-snapc...               8   \n",
       "4   5  http://mashable.com/2014/01/07/lindsey-vonn-wi...               9   \n",
       "\n",
       "   n_tokens_content  num_imgs  num_videos  average_token_length  \\\n",
       "0               821        12           0              4.518879   \n",
       "1               489         6           0              5.040900   \n",
       "2               131         0           1              4.877863   \n",
       "3               556         2           0              4.974820   \n",
       "4               880        18           0              4.928409   \n",
       "\n",
       "   data_channel_is_lifestyle  data_channel_is_entertainment  \\\n",
       "0                          0                              0   \n",
       "1                          0                              0   \n",
       "2                          0                              0   \n",
       "3                          0                              0   \n",
       "4                          0                              0   \n",
       "\n",
       "   data_channel_is_bus  ...  weekday_is_friday  weekday_is_saturday  \\\n",
       "0                    0  ...                  0                    0   \n",
       "1                    0  ...                  0                    0   \n",
       "2                    0  ...                  1                    0   \n",
       "3                    1  ...                  0                    0   \n",
       "4                    0  ...                  0                    0   \n",
       "\n",
       "   weekday_is_sunday  is_weekend  global_subjectivity  \\\n",
       "0                  0           0             0.439379   \n",
       "1                  0           0             0.300454   \n",
       "2                  0           0             0.575486   \n",
       "3                  0           0             0.327220   \n",
       "4                  0           0             0.507709   \n",
       "\n",
       "   global_sentiment_polarity  title_subjectivity  title_sentiment_polarity  \\\n",
       "0                   0.082486            0.666667                     0.375   \n",
       "1                   0.027715            0.000000                     0.000   \n",
       "2                   0.259120            0.000000                     0.000   \n",
       "3                   0.134424            0.000000                     0.000   \n",
       "4                   0.109256            0.000000                     0.000   \n",
       "\n",
       "   shares  shares_log  \n",
       "0    2100    3.322219  \n",
       "1     274    2.437751  \n",
       "2    1500    3.176091  \n",
       "3    2000    3.301030  \n",
       "4    6000    3.778151  \n",
       "\n",
       "[5 rows x 27 columns]"
      ]
     },
     "execution_count": 2,
     "metadata": {},
     "output_type": "execute_result"
    }
   ],
   "source": [
    "# load our dataframe and show head.\n",
    "df = pd.read_csv('data Mashable.csv')\n",
    "df.head()"
   ]
  },
  {
   "cell_type": "code",
   "execution_count": 3,
   "metadata": {},
   "outputs": [
    {
     "name": "stdout",
     "output_type": "stream",
     "text": [
      "<class 'pandas.core.frame.DataFrame'>\n",
      "RangeIndex: 24999 entries, 0 to 24998\n",
      "Data columns (total 27 columns):\n",
      " #   Column                         Non-Null Count  Dtype  \n",
      "---  ------                         --------------  -----  \n",
      " 0   id                             24999 non-null  int64  \n",
      " 1   url                            24999 non-null  object \n",
      " 2   n_tokens_title                 24999 non-null  int64  \n",
      " 3   n_tokens_content               24999 non-null  int64  \n",
      " 4   num_imgs                       24999 non-null  int64  \n",
      " 5   num_videos                     24999 non-null  int64  \n",
      " 6   average_token_length           24999 non-null  float64\n",
      " 7   data_channel_is_lifestyle      24999 non-null  int64  \n",
      " 8   data_channel_is_entertainment  24999 non-null  int64  \n",
      " 9   data_channel_is_bus            24999 non-null  int64  \n",
      " 10  data_channel_is_socmed         24999 non-null  int64  \n",
      " 11  data_channel_is_tech           24999 non-null  int64  \n",
      " 12  data_channel_is_world          24999 non-null  int64  \n",
      " 13  weekday_is_monday              24999 non-null  int64  \n",
      " 14  weekday_is_tuesday             24999 non-null  int64  \n",
      " 15  weekday_is_wednesday           24999 non-null  int64  \n",
      " 16  weekday_is_thursday            24999 non-null  int64  \n",
      " 17  weekday_is_friday              24999 non-null  int64  \n",
      " 18  weekday_is_saturday            24999 non-null  int64  \n",
      " 19  weekday_is_sunday              24999 non-null  int64  \n",
      " 20  is_weekend                     24999 non-null  int64  \n",
      " 21  global_subjectivity            24999 non-null  float64\n",
      " 22  global_sentiment_polarity      24999 non-null  float64\n",
      " 23  title_subjectivity             24999 non-null  float64\n",
      " 24  title_sentiment_polarity       24999 non-null  float64\n",
      " 25  shares                         24999 non-null  int64  \n",
      " 26  shares_log                     24999 non-null  float64\n",
      "dtypes: float64(6), int64(20), object(1)\n",
      "memory usage: 5.1+ MB\n"
     ]
    }
   ],
   "source": [
    "# print a summary of the columns in df.\n",
    "df.info()"
   ]
  },
  {
   "cell_type": "code",
   "execution_count": 4,
   "metadata": {},
   "outputs": [
    {
     "data": {
      "text/plain": [
       "(24999, 27)"
      ]
     },
     "execution_count": 4,
     "metadata": {},
     "output_type": "execute_result"
    }
   ],
   "source": [
    "# Show us the shape of our matrix.\n",
    "df.shape"
   ]
  },
  {
   "cell_type": "code",
   "execution_count": 5,
   "metadata": {},
   "outputs": [
    {
     "data": {
      "text/html": [
       "<div>\n",
       "<style scoped>\n",
       "    .dataframe tbody tr th:only-of-type {\n",
       "        vertical-align: middle;\n",
       "    }\n",
       "\n",
       "    .dataframe tbody tr th {\n",
       "        vertical-align: top;\n",
       "    }\n",
       "\n",
       "    .dataframe thead th {\n",
       "        text-align: right;\n",
       "    }\n",
       "</style>\n",
       "<table border=\"1\" class=\"dataframe\">\n",
       "  <thead>\n",
       "    <tr style=\"text-align: right;\">\n",
       "      <th></th>\n",
       "      <th>id</th>\n",
       "      <th>n_tokens_title</th>\n",
       "      <th>n_tokens_content</th>\n",
       "      <th>num_imgs</th>\n",
       "      <th>num_videos</th>\n",
       "      <th>average_token_length</th>\n",
       "      <th>data_channel_is_lifestyle</th>\n",
       "      <th>data_channel_is_entertainment</th>\n",
       "      <th>data_channel_is_bus</th>\n",
       "      <th>data_channel_is_socmed</th>\n",
       "      <th>...</th>\n",
       "      <th>weekday_is_friday</th>\n",
       "      <th>weekday_is_saturday</th>\n",
       "      <th>weekday_is_sunday</th>\n",
       "      <th>is_weekend</th>\n",
       "      <th>global_subjectivity</th>\n",
       "      <th>global_sentiment_polarity</th>\n",
       "      <th>title_subjectivity</th>\n",
       "      <th>title_sentiment_polarity</th>\n",
       "      <th>shares</th>\n",
       "      <th>shares_log</th>\n",
       "    </tr>\n",
       "  </thead>\n",
       "  <tbody>\n",
       "    <tr>\n",
       "      <th>count</th>\n",
       "      <td>24999.000000</td>\n",
       "      <td>24999.000000</td>\n",
       "      <td>24999.000000</td>\n",
       "      <td>24999.000000</td>\n",
       "      <td>24999.00000</td>\n",
       "      <td>24999.000000</td>\n",
       "      <td>24999.000000</td>\n",
       "      <td>24999.000000</td>\n",
       "      <td>24999.000000</td>\n",
       "      <td>24999.000000</td>\n",
       "      <td>...</td>\n",
       "      <td>24999.000000</td>\n",
       "      <td>24999.000000</td>\n",
       "      <td>24999.000000</td>\n",
       "      <td>24999.000000</td>\n",
       "      <td>24999.000000</td>\n",
       "      <td>24999.000000</td>\n",
       "      <td>24999.000000</td>\n",
       "      <td>24999.000000</td>\n",
       "      <td>24999.000000</td>\n",
       "      <td>24999.000000</td>\n",
       "    </tr>\n",
       "    <tr>\n",
       "      <th>mean</th>\n",
       "      <td>12500.000000</td>\n",
       "      <td>10.283531</td>\n",
       "      <td>547.052322</td>\n",
       "      <td>4.709988</td>\n",
       "      <td>1.24925</td>\n",
       "      <td>4.585351</td>\n",
       "      <td>0.054562</td>\n",
       "      <td>0.175527</td>\n",
       "      <td>0.162006</td>\n",
       "      <td>0.062082</td>\n",
       "      <td>...</td>\n",
       "      <td>0.143526</td>\n",
       "      <td>0.062082</td>\n",
       "      <td>0.069523</td>\n",
       "      <td>0.131605</td>\n",
       "      <td>0.448574</td>\n",
       "      <td>0.122113</td>\n",
       "      <td>0.278650</td>\n",
       "      <td>0.071327</td>\n",
       "      <td>3523.734229</td>\n",
       "      <td>3.254355</td>\n",
       "    </tr>\n",
       "    <tr>\n",
       "      <th>std</th>\n",
       "      <td>7216.734026</td>\n",
       "      <td>2.080625</td>\n",
       "      <td>473.431869</td>\n",
       "      <td>8.602473</td>\n",
       "      <td>4.08842</td>\n",
       "      <td>0.734695</td>\n",
       "      <td>0.227128</td>\n",
       "      <td>0.380425</td>\n",
       "      <td>0.368464</td>\n",
       "      <td>0.241310</td>\n",
       "      <td>...</td>\n",
       "      <td>0.350615</td>\n",
       "      <td>0.241310</td>\n",
       "      <td>0.254346</td>\n",
       "      <td>0.338068</td>\n",
       "      <td>0.109696</td>\n",
       "      <td>0.096567</td>\n",
       "      <td>0.322993</td>\n",
       "      <td>0.261615</td>\n",
       "      <td>13098.996472</td>\n",
       "      <td>0.408068</td>\n",
       "    </tr>\n",
       "    <tr>\n",
       "      <th>min</th>\n",
       "      <td>1.000000</td>\n",
       "      <td>2.000000</td>\n",
       "      <td>0.000000</td>\n",
       "      <td>0.000000</td>\n",
       "      <td>0.00000</td>\n",
       "      <td>0.000000</td>\n",
       "      <td>0.000000</td>\n",
       "      <td>0.000000</td>\n",
       "      <td>0.000000</td>\n",
       "      <td>0.000000</td>\n",
       "      <td>...</td>\n",
       "      <td>0.000000</td>\n",
       "      <td>0.000000</td>\n",
       "      <td>0.000000</td>\n",
       "      <td>0.000000</td>\n",
       "      <td>0.000000</td>\n",
       "      <td>-0.393750</td>\n",
       "      <td>0.000000</td>\n",
       "      <td>-1.000000</td>\n",
       "      <td>1.000000</td>\n",
       "      <td>0.000000</td>\n",
       "    </tr>\n",
       "    <tr>\n",
       "      <th>25%</th>\n",
       "      <td>6250.500000</td>\n",
       "      <td>9.000000</td>\n",
       "      <td>246.000000</td>\n",
       "      <td>1.000000</td>\n",
       "      <td>0.00000</td>\n",
       "      <td>4.481996</td>\n",
       "      <td>0.000000</td>\n",
       "      <td>0.000000</td>\n",
       "      <td>0.000000</td>\n",
       "      <td>0.000000</td>\n",
       "      <td>...</td>\n",
       "      <td>0.000000</td>\n",
       "      <td>0.000000</td>\n",
       "      <td>0.000000</td>\n",
       "      <td>0.000000</td>\n",
       "      <td>0.399175</td>\n",
       "      <td>0.062340</td>\n",
       "      <td>0.000000</td>\n",
       "      <td>0.000000</td>\n",
       "      <td>954.000000</td>\n",
       "      <td>2.979548</td>\n",
       "    </tr>\n",
       "    <tr>\n",
       "      <th>50%</th>\n",
       "      <td>12500.000000</td>\n",
       "      <td>10.000000</td>\n",
       "      <td>406.000000</td>\n",
       "      <td>1.000000</td>\n",
       "      <td>0.00000</td>\n",
       "      <td>4.663717</td>\n",
       "      <td>0.000000</td>\n",
       "      <td>0.000000</td>\n",
       "      <td>0.000000</td>\n",
       "      <td>0.000000</td>\n",
       "      <td>...</td>\n",
       "      <td>0.000000</td>\n",
       "      <td>0.000000</td>\n",
       "      <td>0.000000</td>\n",
       "      <td>0.000000</td>\n",
       "      <td>0.455556</td>\n",
       "      <td>0.122070</td>\n",
       "      <td>0.112500</td>\n",
       "      <td>0.000000</td>\n",
       "      <td>1500.000000</td>\n",
       "      <td>3.176091</td>\n",
       "    </tr>\n",
       "    <tr>\n",
       "      <th>75%</th>\n",
       "      <td>18749.500000</td>\n",
       "      <td>12.000000</td>\n",
       "      <td>713.000000</td>\n",
       "      <td>5.000000</td>\n",
       "      <td>1.00000</td>\n",
       "      <td>4.850842</td>\n",
       "      <td>0.000000</td>\n",
       "      <td>0.000000</td>\n",
       "      <td>0.000000</td>\n",
       "      <td>0.000000</td>\n",
       "      <td>...</td>\n",
       "      <td>0.000000</td>\n",
       "      <td>0.000000</td>\n",
       "      <td>0.000000</td>\n",
       "      <td>0.000000</td>\n",
       "      <td>0.510119</td>\n",
       "      <td>0.180353</td>\n",
       "      <td>0.500000</td>\n",
       "      <td>0.137500</td>\n",
       "      <td>2900.000000</td>\n",
       "      <td>3.462398</td>\n",
       "    </tr>\n",
       "    <tr>\n",
       "      <th>max</th>\n",
       "      <td>24999.000000</td>\n",
       "      <td>20.000000</td>\n",
       "      <td>7764.000000</td>\n",
       "      <td>128.000000</td>\n",
       "      <td>75.00000</td>\n",
       "      <td>8.041534</td>\n",
       "      <td>1.000000</td>\n",
       "      <td>1.000000</td>\n",
       "      <td>1.000000</td>\n",
       "      <td>1.000000</td>\n",
       "      <td>...</td>\n",
       "      <td>1.000000</td>\n",
       "      <td>1.000000</td>\n",
       "      <td>1.000000</td>\n",
       "      <td>1.000000</td>\n",
       "      <td>1.000000</td>\n",
       "      <td>0.655000</td>\n",
       "      <td>1.000000</td>\n",
       "      <td>1.000000</td>\n",
       "      <td>843300.000000</td>\n",
       "      <td>5.925982</td>\n",
       "    </tr>\n",
       "  </tbody>\n",
       "</table>\n",
       "<p>8 rows × 26 columns</p>\n",
       "</div>"
      ],
      "text/plain": [
       "                 id  n_tokens_title  n_tokens_content      num_imgs  \\\n",
       "count  24999.000000    24999.000000      24999.000000  24999.000000   \n",
       "mean   12500.000000       10.283531        547.052322      4.709988   \n",
       "std     7216.734026        2.080625        473.431869      8.602473   \n",
       "min        1.000000        2.000000          0.000000      0.000000   \n",
       "25%     6250.500000        9.000000        246.000000      1.000000   \n",
       "50%    12500.000000       10.000000        406.000000      1.000000   \n",
       "75%    18749.500000       12.000000        713.000000      5.000000   \n",
       "max    24999.000000       20.000000       7764.000000    128.000000   \n",
       "\n",
       "        num_videos  average_token_length  data_channel_is_lifestyle  \\\n",
       "count  24999.00000          24999.000000               24999.000000   \n",
       "mean       1.24925              4.585351                   0.054562   \n",
       "std        4.08842              0.734695                   0.227128   \n",
       "min        0.00000              0.000000                   0.000000   \n",
       "25%        0.00000              4.481996                   0.000000   \n",
       "50%        0.00000              4.663717                   0.000000   \n",
       "75%        1.00000              4.850842                   0.000000   \n",
       "max       75.00000              8.041534                   1.000000   \n",
       "\n",
       "       data_channel_is_entertainment  data_channel_is_bus  \\\n",
       "count                   24999.000000         24999.000000   \n",
       "mean                        0.175527             0.162006   \n",
       "std                         0.380425             0.368464   \n",
       "min                         0.000000             0.000000   \n",
       "25%                         0.000000             0.000000   \n",
       "50%                         0.000000             0.000000   \n",
       "75%                         0.000000             0.000000   \n",
       "max                         1.000000             1.000000   \n",
       "\n",
       "       data_channel_is_socmed  ...  weekday_is_friday  weekday_is_saturday  \\\n",
       "count            24999.000000  ...       24999.000000         24999.000000   \n",
       "mean                 0.062082  ...           0.143526             0.062082   \n",
       "std                  0.241310  ...           0.350615             0.241310   \n",
       "min                  0.000000  ...           0.000000             0.000000   \n",
       "25%                  0.000000  ...           0.000000             0.000000   \n",
       "50%                  0.000000  ...           0.000000             0.000000   \n",
       "75%                  0.000000  ...           0.000000             0.000000   \n",
       "max                  1.000000  ...           1.000000             1.000000   \n",
       "\n",
       "       weekday_is_sunday    is_weekend  global_subjectivity  \\\n",
       "count       24999.000000  24999.000000         24999.000000   \n",
       "mean            0.069523      0.131605             0.448574   \n",
       "std             0.254346      0.338068             0.109696   \n",
       "min             0.000000      0.000000             0.000000   \n",
       "25%             0.000000      0.000000             0.399175   \n",
       "50%             0.000000      0.000000             0.455556   \n",
       "75%             0.000000      0.000000             0.510119   \n",
       "max             1.000000      1.000000             1.000000   \n",
       "\n",
       "       global_sentiment_polarity  title_subjectivity  \\\n",
       "count               24999.000000        24999.000000   \n",
       "mean                    0.122113            0.278650   \n",
       "std                     0.096567            0.322993   \n",
       "min                    -0.393750            0.000000   \n",
       "25%                     0.062340            0.000000   \n",
       "50%                     0.122070            0.112500   \n",
       "75%                     0.180353            0.500000   \n",
       "max                     0.655000            1.000000   \n",
       "\n",
       "       title_sentiment_polarity         shares    shares_log  \n",
       "count              24999.000000   24999.000000  24999.000000  \n",
       "mean                   0.071327    3523.734229      3.254355  \n",
       "std                    0.261615   13098.996472      0.408068  \n",
       "min                   -1.000000       1.000000      0.000000  \n",
       "25%                    0.000000     954.000000      2.979548  \n",
       "50%                    0.000000    1500.000000      3.176091  \n",
       "75%                    0.137500    2900.000000      3.462398  \n",
       "max                    1.000000  843300.000000      5.925982  \n",
       "\n",
       "[8 rows x 26 columns]"
      ]
     },
     "execution_count": 5,
     "metadata": {},
     "output_type": "execute_result"
    }
   ],
   "source": [
    "# show us some statistics.\n",
    "df.describe()"
   ]
  },
  {
   "cell_type": "code",
   "execution_count": 6,
   "metadata": {},
   "outputs": [],
   "source": [
    "y_labels = df['shares'] #the feature to be predicted."
   ]
  },
  {
   "cell_type": "code",
   "execution_count": 7,
   "metadata": {
    "scrolled": false
   },
   "outputs": [],
   "source": [
    "#Drop the categorical columns. \n",
    "df = df.drop(columns = ['url'],axis = 1)"
   ]
  },
  {
   "cell_type": "markdown",
   "metadata": {},
   "source": [
    "## Split our Dataset"
   ]
  },
  {
   "cell_type": "code",
   "execution_count": 8,
   "metadata": {},
   "outputs": [],
   "source": [
    "from sklearn.model_selection import train_test_split"
   ]
  },
  {
   "cell_type": "code",
   "execution_count": 9,
   "metadata": {},
   "outputs": [],
   "source": [
    "# split data into training and validation data, for both features and target.\n",
    "# The split is based on a random number generator.\n",
    "# Supplying a numeric value to the random_state argument guarantees we get the same split every time we run this script.\n",
    "train_X, val_X, train_y, val_y = train_test_split(df, y_labels, random_state = 1)"
   ]
  },
  {
   "cell_type": "markdown",
   "metadata": {},
   "source": [
    "## Important!\n",
    "\n",
    "Now that we splited our Data we are gonna use XGBoost to find the absolute importance of each feature of our dataset. In that way, we can minimize our effort of making features while converting extracted news from articles."
   ]
  },
  {
   "cell_type": "code",
   "execution_count": 10,
   "metadata": {},
   "outputs": [],
   "source": [
    "from xgboost import XGBRegressor\n",
    "from xgboost import plot_importance"
   ]
  },
  {
   "cell_type": "code",
   "execution_count": 11,
   "metadata": {
    "scrolled": true
   },
   "outputs": [
    {
     "data": {
      "image/png": "[encoded data removed]",
      "text/plain": [
       "<Figure size 720x720 with 1 Axes>"
      ]
     },
     "metadata": {
      "needs_background": "light"
     },
     "output_type": "display_data"
    }
   ],
   "source": [
    "xgb = XGBRegressor(max_depth = 10,random_state = 42) # code needs to be twicked to drop shares log and id from our graph! \n",
    "xgb.fit(train_X,train_y)\n",
    "fig, ax = plt.subplots(1,1,figsize=(10,10))\n",
    "impplot = plot_importance(xgb,ax = ax)\n",
    "plt.show()"
   ]
  },
  {
   "cell_type": "markdown",
   "metadata": {},
   "source": [
    "##### So...\n",
    "\n",
    "If we exclude shares_log and id columns(they were not supposed to be there), we can see that n_tokens_content, average_token_length, n_tokens_title, global_subjectivity and  num_imgs are of crucial performance when trying to predict our shares.  \n",
    "\n",
    "We will pick 5 variables for this assingment.\n",
    "\n",
    "If we have a look at https://archive.ics.uci.edu/ml/datasets/online+news+popularity we can have a better understanding of these variables.\n",
    "\n",
    "Attribute Information:\n",
    "\n",
    "  - n_tokens_content: Number of words in the content\n",
    "  - average_token_length: Average length of the words in the content\n",
    "  - n_tokens_title: Number of words in the title\n",
    "  - global_subjectivity: Text subjectivity\n",
    "  - num_imgs: Number of images\n",
    "  \n",
    "\n",
    "##### In other words, \n",
    "Some specific characterestics of human behaviour and they way people perceive reality, are affecting the final prediction ! Lets go deeper..."
   ]
  },
  {
   "cell_type": "markdown",
   "metadata": {},
   "source": [
    "## Relation between our selected variables and the target.\n",
    "\n",
    "\n",
    "We'll investigate the relation between these numerical variables: n_tokens_content, average_token_length, n_tokens_title, global_subjectivity and num_imgs with our target: shares\n",
    "\n",
    "### Assign \"Features\"\n",
    "\n",
    "- The columns that are inputted into our model (and later used to make predictions) are called \"features.\"\n",
    "\n",
    "\n",
    "- In our case, those would be the columns used to determine shares_log.\n",
    "\n",
    "\n",
    "- We select multiple features by providing a list of column names inside brackets. Each item in that list should be a string."
   ]
  },
  {
   "cell_type": "code",
   "execution_count": 12,
   "metadata": {},
   "outputs": [],
   "source": [
    "df_features = ['n_tokens_content', 'average_token_length', 'n_tokens_title', 'global_subjectivity', 'num_imgs']"
   ]
  },
  {
   "cell_type": "code",
   "execution_count": 13,
   "metadata": {},
   "outputs": [],
   "source": [
    "# We call this data X.\n",
    "X = train_X[df_features]"
   ]
  },
  {
   "cell_type": "code",
   "execution_count": 14,
   "metadata": {},
   "outputs": [
    {
     "data": {
      "text/html": [
       "<div>\n",
       "<style scoped>\n",
       "    .dataframe tbody tr th:only-of-type {\n",
       "        vertical-align: middle;\n",
       "    }\n",
       "\n",
       "    .dataframe tbody tr th {\n",
       "        vertical-align: top;\n",
       "    }\n",
       "\n",
       "    .dataframe thead th {\n",
       "        text-align: right;\n",
       "    }\n",
       "</style>\n",
       "<table border=\"1\" class=\"dataframe\">\n",
       "  <thead>\n",
       "    <tr style=\"text-align: right;\">\n",
       "      <th></th>\n",
       "      <th>n_tokens_content</th>\n",
       "      <th>average_token_length</th>\n",
       "      <th>n_tokens_title</th>\n",
       "      <th>global_subjectivity</th>\n",
       "      <th>num_imgs</th>\n",
       "    </tr>\n",
       "  </thead>\n",
       "  <tbody>\n",
       "    <tr>\n",
       "      <th>count</th>\n",
       "      <td>18749.000000</td>\n",
       "      <td>18749.000000</td>\n",
       "      <td>18749.000000</td>\n",
       "      <td>18749.000000</td>\n",
       "      <td>18749.000000</td>\n",
       "    </tr>\n",
       "    <tr>\n",
       "      <th>mean</th>\n",
       "      <td>546.028001</td>\n",
       "      <td>4.584525</td>\n",
       "      <td>10.283802</td>\n",
       "      <td>0.448485</td>\n",
       "      <td>4.687823</td>\n",
       "    </tr>\n",
       "    <tr>\n",
       "      <th>std</th>\n",
       "      <td>471.791808</td>\n",
       "      <td>0.737810</td>\n",
       "      <td>2.085935</td>\n",
       "      <td>0.110051</td>\n",
       "      <td>8.403158</td>\n",
       "    </tr>\n",
       "    <tr>\n",
       "      <th>min</th>\n",
       "      <td>0.000000</td>\n",
       "      <td>0.000000</td>\n",
       "      <td>3.000000</td>\n",
       "      <td>0.000000</td>\n",
       "      <td>0.000000</td>\n",
       "    </tr>\n",
       "    <tr>\n",
       "      <th>25%</th>\n",
       "      <td>246.000000</td>\n",
       "      <td>4.483776</td>\n",
       "      <td>9.000000</td>\n",
       "      <td>0.399259</td>\n",
       "      <td>1.000000</td>\n",
       "    </tr>\n",
       "    <tr>\n",
       "      <th>50%</th>\n",
       "      <td>407.000000</td>\n",
       "      <td>4.664047</td>\n",
       "      <td>10.000000</td>\n",
       "      <td>0.455136</td>\n",
       "      <td>1.000000</td>\n",
       "    </tr>\n",
       "    <tr>\n",
       "      <th>75%</th>\n",
       "      <td>711.000000</td>\n",
       "      <td>4.850181</td>\n",
       "      <td>12.000000</td>\n",
       "      <td>0.509797</td>\n",
       "      <td>5.000000</td>\n",
       "    </tr>\n",
       "    <tr>\n",
       "      <th>max</th>\n",
       "      <td>7764.000000</td>\n",
       "      <td>8.041534</td>\n",
       "      <td>20.000000</td>\n",
       "      <td>1.000000</td>\n",
       "      <td>111.000000</td>\n",
       "    </tr>\n",
       "  </tbody>\n",
       "</table>\n",
       "</div>"
      ],
      "text/plain": [
       "       n_tokens_content  average_token_length  n_tokens_title  \\\n",
       "count      18749.000000          18749.000000    18749.000000   \n",
       "mean         546.028001              4.584525       10.283802   \n",
       "std          471.791808              0.737810        2.085935   \n",
       "min            0.000000              0.000000        3.000000   \n",
       "25%          246.000000              4.483776        9.000000   \n",
       "50%          407.000000              4.664047       10.000000   \n",
       "75%          711.000000              4.850181       12.000000   \n",
       "max         7764.000000              8.041534       20.000000   \n",
       "\n",
       "       global_subjectivity      num_imgs  \n",
       "count         18749.000000  18749.000000  \n",
       "mean              0.448485      4.687823  \n",
       "std               0.110051      8.403158  \n",
       "min               0.000000      0.000000  \n",
       "25%               0.399259      1.000000  \n",
       "50%               0.455136      1.000000  \n",
       "75%               0.509797      5.000000  \n",
       "max               1.000000    111.000000  "
      ]
     },
     "execution_count": 14,
     "metadata": {},
     "output_type": "execute_result"
    }
   ],
   "source": [
    "X.describe()"
   ]
  },
  {
   "cell_type": "code",
   "execution_count": 15,
   "metadata": {
    "scrolled": true
   },
   "outputs": [
    {
     "data": {
      "text/html": [
       "<div>\n",
       "<style scoped>\n",
       "    .dataframe tbody tr th:only-of-type {\n",
       "        vertical-align: middle;\n",
       "    }\n",
       "\n",
       "    .dataframe tbody tr th {\n",
       "        vertical-align: top;\n",
       "    }\n",
       "\n",
       "    .dataframe thead th {\n",
       "        text-align: right;\n",
       "    }\n",
       "</style>\n",
       "<table border=\"1\" class=\"dataframe\">\n",
       "  <thead>\n",
       "    <tr style=\"text-align: right;\">\n",
       "      <th></th>\n",
       "      <th>n_tokens_content</th>\n",
       "      <th>average_token_length</th>\n",
       "      <th>n_tokens_title</th>\n",
       "      <th>global_subjectivity</th>\n",
       "      <th>num_imgs</th>\n",
       "    </tr>\n",
       "  </thead>\n",
       "  <tbody>\n",
       "    <tr>\n",
       "      <th>3272</th>\n",
       "      <td>229</td>\n",
       "      <td>4.737991</td>\n",
       "      <td>5</td>\n",
       "      <td>0.431546</td>\n",
       "      <td>12</td>\n",
       "    </tr>\n",
       "    <tr>\n",
       "      <th>14858</th>\n",
       "      <td>1750</td>\n",
       "      <td>4.962286</td>\n",
       "      <td>14</td>\n",
       "      <td>0.474415</td>\n",
       "      <td>1</td>\n",
       "    </tr>\n",
       "    <tr>\n",
       "      <th>6238</th>\n",
       "      <td>476</td>\n",
       "      <td>4.955882</td>\n",
       "      <td>12</td>\n",
       "      <td>0.378997</td>\n",
       "      <td>1</td>\n",
       "    </tr>\n",
       "    <tr>\n",
       "      <th>10796</th>\n",
       "      <td>352</td>\n",
       "      <td>4.406250</td>\n",
       "      <td>8</td>\n",
       "      <td>0.284644</td>\n",
       "      <td>1</td>\n",
       "    </tr>\n",
       "    <tr>\n",
       "      <th>20476</th>\n",
       "      <td>612</td>\n",
       "      <td>4.777778</td>\n",
       "      <td>8</td>\n",
       "      <td>0.511264</td>\n",
       "      <td>1</td>\n",
       "    </tr>\n",
       "  </tbody>\n",
       "</table>\n",
       "</div>"
      ],
      "text/plain": [
       "       n_tokens_content  average_token_length  n_tokens_title  \\\n",
       "3272                229              4.737991               5   \n",
       "14858              1750              4.962286              14   \n",
       "6238                476              4.955882              12   \n",
       "10796               352              4.406250               8   \n",
       "20476               612              4.777778               8   \n",
       "\n",
       "       global_subjectivity  num_imgs  \n",
       "3272              0.431546        12  \n",
       "14858             0.474415         1  \n",
       "6238              0.378997         1  \n",
       "10796             0.284644         1  \n",
       "20476             0.511264         1  "
      ]
     },
     "execution_count": 15,
     "metadata": {},
     "output_type": "execute_result"
    }
   ],
   "source": [
    "X.head()"
   ]
  },
  {
   "cell_type": "markdown",
   "metadata": {},
   "source": [
    "Our features are ready."
   ]
  },
  {
   "cell_type": "markdown",
   "metadata": {},
   "source": [
    "### Selecting the Prediction Target\n",
    "\n",
    "- We can pull out a variable with dot-notation. This single column is stored in a Series. \n",
    "\n",
    "\n",
    "- This Series is broadly like a DataFrame with only a single column of data.\n",
    "\n",
    "\n",
    "- We'll use the dot notation to select the column we want to predict, which is called the prediction target.\n",
    "\n",
    "\n",
    "- In our case is shares"
   ]
  },
  {
   "cell_type": "code",
   "execution_count": 16,
   "metadata": {},
   "outputs": [
    {
     "data": {
      "text/plain": [
       "3272     5900\n",
       "14858    2600\n",
       "6238     2000\n",
       "10796     589\n",
       "20476    2000\n",
       "Name: shares, dtype: int64"
      ]
     },
     "execution_count": 16,
     "metadata": {},
     "output_type": "execute_result"
    }
   ],
   "source": [
    "# We call this target y.\n",
    "y = train_y\n",
    "y.head()"
   ]
  },
  {
   "cell_type": "code",
   "execution_count": 17,
   "metadata": {},
   "outputs": [
    {
     "data": {
      "text/plain": [
       "(18749,)"
      ]
     },
     "execution_count": 17,
     "metadata": {},
     "output_type": "execute_result"
    }
   ],
   "source": [
    "y.shape"
   ]
  },
  {
   "cell_type": "markdown",
   "metadata": {},
   "source": [
    "Our target is ready.\n",
    "\n",
    "At this moment we could train our model and make some predictions but first lets deploy some graphs to get an even better understanding of the features we choosed :) "
   ]
  },
  {
   "cell_type": "markdown",
   "metadata": {},
   "source": [
    "## Exploratory Data Analysis (EDA) "
   ]
  },
  {
   "cell_type": "markdown",
   "metadata": {},
   "source": [
    "##### n_tokens_content"
   ]
  },
  {
   "cell_type": "code",
   "execution_count": 18,
   "metadata": {},
   "outputs": [
    {
     "data": {
      "text/plain": [
       "Text(0, 0.5, 'Shares')"
      ]
     },
     "execution_count": 18,
     "metadata": {},
     "output_type": "execute_result"
    },
    {
     "data": {
      "image/png": "[encoded data removed]",
      "text/plain": [
       "<Figure size 432x288 with 1 Axes>"
      ]
     },
     "metadata": {
      "needs_background": "light"
     },
     "output_type": "display_data"
    }
   ],
   "source": [
    "sns.scatterplot(x=X['n_tokens_content'], y=y)\n",
    "plt.xlabel('Number of words in the content') \n",
    "plt.ylabel('Shares')"
   ]
  },
  {
   "cell_type": "code",
   "execution_count": 19,
   "metadata": {
    "scrolled": true
   },
   "outputs": [
    {
     "data": {
      "text/plain": [
       "<seaborn.axisgrid.JointGrid at 0x14262df9448>"
      ]
     },
     "execution_count": 19,
     "metadata": {},
     "output_type": "execute_result"
    },
    {
     "data": {
      "image/png": "[encoded data removed]",
      "text/plain": [
       "<Figure size 432x432 with 3 Axes>"
      ]
     },
     "metadata": {
      "needs_background": "light"
     },
     "output_type": "display_data"
    }
   ],
   "source": [
    "sns.jointplot(data=X, x=X['n_tokens_content'], y=y)"
   ]
  },
  {
   "cell_type": "markdown",
   "metadata": {},
   "source": [
    "- We can safely assume that small articles(less than 2000 words), tend to have more shares and this makes sense.\n",
    " \n",
    " \n",
    "- In fact, we can assume that if we want an article to go viral(over 200000 shares), it has to be very small(less than 1000 words)! "
   ]
  },
  {
   "cell_type": "markdown",
   "metadata": {},
   "source": [
    "##### average_token_length"
   ]
  },
  {
   "cell_type": "code",
   "execution_count": 20,
   "metadata": {
    "scrolled": true
   },
   "outputs": [
    {
     "data": {
      "text/plain": [
       "Text(0, 0.5, 'Shares')"
      ]
     },
     "execution_count": 20,
     "metadata": {},
     "output_type": "execute_result"
    },
    {
     "data": {
      "image/png": "[encoded data removed]",
      "text/plain": [
       "<Figure size 432x288 with 1 Axes>"
      ]
     },
     "metadata": {
      "needs_background": "light"
     },
     "output_type": "display_data"
    }
   ],
   "source": [
    "sns.scatterplot(x=X['average_token_length'], y=y)\n",
    "plt.xlabel('Average length of the words in the content') \n",
    "plt.ylabel('Shares')"
   ]
  },
  {
   "cell_type": "code",
   "execution_count": 21,
   "metadata": {},
   "outputs": [
    {
     "data": {
      "text/plain": [
       "<seaborn.axisgrid.JointGrid at 0x1426e0e0c48>"
      ]
     },
     "execution_count": 21,
     "metadata": {},
     "output_type": "execute_result"
    },
    {
     "data": {
      "image/png": "[encoded data removed]",
      "text/plain": [
       "<Figure size 432x432 with 3 Axes>"
      ]
     },
     "metadata": {
      "needs_background": "light"
     },
     "output_type": "display_data"
    }
   ],
   "source": [
    "sns.jointplot(data=X, x=X['average_token_length'], y=y)"
   ]
  },
  {
   "cell_type": "markdown",
   "metadata": {},
   "source": [
    "- Here, we can assume that if the length of the words of an article is between 4 to 6 letters, the article is more engaging and therefore leads to more shares.\n",
    "\n",
    "\n",
    "- Articles that went viral (more than 600000 shares) had all on average 4 to 5 letters per word."
   ]
  },
  {
   "cell_type": "markdown",
   "metadata": {},
   "source": [
    "##### n_tokens_title"
   ]
  },
  {
   "cell_type": "code",
   "execution_count": 22,
   "metadata": {},
   "outputs": [
    {
     "data": {
      "text/plain": [
       "<AxesSubplot:xlabel='n_tokens_title', ylabel='shares'>"
      ]
     },
     "execution_count": 22,
     "metadata": {},
     "output_type": "execute_result"
    },
    {
     "data": {
      "image/png": "[encoded data removed]",
      "text/plain": [
       "<Figure size 432x288 with 1 Axes>"
      ]
     },
     "metadata": {
      "needs_background": "light"
     },
     "output_type": "display_data"
    }
   ],
   "source": [
    "sns.scatterplot(x=X['n_tokens_title'], y=y)"
   ]
  },
  {
   "cell_type": "code",
   "execution_count": 23,
   "metadata": {},
   "outputs": [
    {
     "data": {
      "text/plain": [
       "<seaborn.axisgrid.JointGrid at 0x142735c5d48>"
      ]
     },
     "execution_count": 23,
     "metadata": {},
     "output_type": "execute_result"
    },
    {
     "data": {
      "image/png": "[encoded data removed]",
      "text/plain": [
       "<Figure size 432x432 with 3 Axes>"
      ]
     },
     "metadata": {
      "needs_background": "light"
     },
     "output_type": "display_data"
    }
   ],
   "source": [
    "sns.jointplot(data=X, x=X['n_tokens_title'], y=y)"
   ]
  },
  {
   "cell_type": "code",
   "execution_count": 24,
   "metadata": {},
   "outputs": [
    {
     "data": {
      "text/plain": [
       "count    18749.000000\n",
       "mean        10.283802\n",
       "std          2.085935\n",
       "min          3.000000\n",
       "25%          9.000000\n",
       "50%         10.000000\n",
       "75%         12.000000\n",
       "max         20.000000\n",
       "Name: n_tokens_title, dtype: float64"
      ]
     },
     "execution_count": 24,
     "metadata": {},
     "output_type": "execute_result"
    }
   ],
   "source": [
    "X['n_tokens_title'].describe()"
   ]
  },
  {
   "cell_type": "markdown",
   "metadata": {},
   "source": [
    "- The center of the distribution is around 10. 10 is considered the best number of words per title!\n",
    "\n",
    "\n",
    "- The standard deviation is about 2 words.\n",
    "\n",
    "\n",
    "- There is no right or left skew. The distribution is symmetrical.\n"
   ]
  },
  {
   "cell_type": "markdown",
   "metadata": {},
   "source": [
    "##### global_subjectivity"
   ]
  },
  {
   "cell_type": "code",
   "execution_count": 25,
   "metadata": {},
   "outputs": [
    {
     "data": {
      "text/plain": [
       "Text(0, 0.5, 'Shares')"
      ]
     },
     "execution_count": 25,
     "metadata": {},
     "output_type": "execute_result"
    },
    {
     "data": {
      "image/png": "[encoded data removed]",
      "text/plain": [
       "<Figure size 432x288 with 1 Axes>"
      ]
     },
     "metadata": {
      "needs_background": "light"
     },
     "output_type": "display_data"
    }
   ],
   "source": [
    "sns.scatterplot(x=X['global_subjectivity'], y=y)\n",
    "plt.xlabel('Text subjectivity') \n",
    "plt.ylabel('Shares')"
   ]
  },
  {
   "cell_type": "markdown",
   "metadata": {},
   "source": [
    "##### num_imgs"
   ]
  },
  {
   "cell_type": "code",
   "execution_count": 26,
   "metadata": {
    "scrolled": true
   },
   "outputs": [
    {
     "data": {
      "text/plain": [
       "Text(0, 0.5, 'Shares')"
      ]
     },
     "execution_count": 26,
     "metadata": {},
     "output_type": "execute_result"
    },
    {
     "data": {
      "image/png": "[encoded data removed]",
      "text/plain": [
       "<Figure size 432x288 with 1 Axes>"
      ]
     },
     "metadata": {
      "needs_background": "light"
     },
     "output_type": "display_data"
    }
   ],
   "source": [
    "sns.scatterplot(x=X['num_imgs'], y=y)\n",
    "plt.xlabel('Number of images') \n",
    "plt.ylabel('Shares')"
   ]
  },
  {
   "cell_type": "code",
   "execution_count": 27,
   "metadata": {},
   "outputs": [
    {
     "data": {
      "text/plain": [
       "<seaborn.axisgrid.JointGrid at 0x14279f3a088>"
      ]
     },
     "execution_count": 27,
     "metadata": {},
     "output_type": "execute_result"
    },
    {
     "data": {
      "image/png": "[encoded data removed]",
      "text/plain": [
       "<Figure size 432x432 with 3 Axes>"
      ]
     },
     "metadata": {
      "needs_background": "light"
     },
     "output_type": "display_data"
    }
   ],
   "source": [
    "sns.jointplot(data=X, x=X['num_imgs'], y=y)"
   ]
  },
  {
   "cell_type": "markdown",
   "metadata": {},
   "source": [
    "0 number of images leads to more shares!?"
   ]
  },
  {
   "cell_type": "markdown",
   "metadata": {},
   "source": [
    "## Deploy our model\n",
    "\n",
    "- We have already splited our data\n",
    "\n",
    "\n",
    "- We are gonna use the scikit library for machine learning"
   ]
  },
  {
   "cell_type": "code",
   "execution_count": 28,
   "metadata": {},
   "outputs": [],
   "source": [
    "from sklearn.linear_model import LinearRegression"
   ]
  },
  {
   "cell_type": "code",
   "execution_count": 40,
   "metadata": {},
   "outputs": [
    {
     "name": "stdout",
     "output_type": "stream",
     "text": [
      "Predicting how many shares the first 5 articles of our validation data are going to get..\n",
      "The predictions are:\n",
      "[3600. 1300. 1900. 4200. 6900.]\n"
     ]
    }
   ],
   "source": [
    "# Define model. Specify a number for random_state to ensure same results each run\n",
    "model = LinearRegression()\n",
    "\n",
    "# Fit model\n",
    "model.fit(train_X, train_y)\n",
    "\n",
    "print(\"Predicting how many shares the first 5 articles of our validation data are going to get..\")\n",
    "print(\"The predictions are:\")\n",
    "print(model.predict(val_X.head()))"
   ]
  },
  {
   "cell_type": "markdown",
   "metadata": {},
   "source": [
    "## Model Evaluation"
   ]
  },
  {
   "cell_type": "code",
   "execution_count": 41,
   "metadata": {},
   "outputs": [],
   "source": [
    "from sklearn.metrics import mean_absolute_error"
   ]
  },
  {
   "cell_type": "code",
   "execution_count": 42,
   "metadata": {},
   "outputs": [
    {
     "name": "stdout",
     "output_type": "stream",
     "text": [
      "4.742597639051382e-12\n"
     ]
    }
   ],
   "source": [
    "predictions = model.predict(val_X)\n",
    "print(mean_absolute_error(val_y, predictions))"
   ]
  },
  {
   "cell_type": "code",
   "execution_count": null,
   "metadata": {},
   "outputs": [],
   "source": []
  }
 ],
 "metadata": {
  "kernelspec": {
   "display_name": "Python 3",
   "language": "python",
   "name": "python3"
  },
  "language_info": {
   "codemirror_mode": {
    "name": "ipython",
    "version": 3
   },
   "file_extension": ".py",
   "mimetype": "text/x-python",
   "name": "python",
   "nbconvert_exporter": "python",
   "pygments_lexer": "ipython3",
   "version": "3.7.4"
  }
 },
 "nbformat": 4,
 "nbformat_minor": 4
}
